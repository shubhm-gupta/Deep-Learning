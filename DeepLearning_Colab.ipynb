{
 "cells": [
  {
   "cell_type": "code",
   "execution_count": 15,
   "metadata": {
    "colab": {
     "base_uri": "https://localhost:8080/",
     "height": 34
    },
    "colab_type": "code",
    "id": "81fphAadTvJ4",
    "outputId": "96e1b4af-e25c-4d79-b602-cd81be493ede"
   },
   "outputs": [
    {
     "data": {
      "text/plain": [
       "'/device:GPU:0'"
      ]
     },
     "execution_count": 15,
     "metadata": {
      "tags": []
     },
     "output_type": "execute_result"
    }
   ],
   "source": [
    "import tensorflow as tf\n",
    "tf.test.gpu_device_name()"
   ]
  },
  {
   "cell_type": "code",
   "execution_count": 16,
   "metadata": {
    "colab": {
     "base_uri": "https://localhost:8080/",
     "height": 476
    },
    "colab_type": "code",
    "id": "BWbCslztT1dQ",
    "outputId": "882261c9-5ca0-4c38-ede7-e6ff300e6a4a"
   },
   "outputs": [
    {
     "data": {
      "text/plain": [
       "[name: \"/device:CPU:0\"\n",
       " device_type: \"CPU\"\n",
       " memory_limit: 268435456\n",
       " locality {\n",
       " }\n",
       " incarnation: 10384812457322268406, name: \"/device:XLA_CPU:0\"\n",
       " device_type: \"XLA_CPU\"\n",
       " memory_limit: 17179869184\n",
       " locality {\n",
       " }\n",
       " incarnation: 13115079279753435071\n",
       " physical_device_desc: \"device: XLA_CPU device\", name: \"/device:XLA_GPU:0\"\n",
       " device_type: \"XLA_GPU\"\n",
       " memory_limit: 17179869184\n",
       " locality {\n",
       " }\n",
       " incarnation: 17578585188219684516\n",
       " physical_device_desc: \"device: XLA_GPU device\", name: \"/device:GPU:0\"\n",
       " device_type: \"GPU\"\n",
       " memory_limit: 14800692839\n",
       " locality {\n",
       "   bus_id: 1\n",
       "   links {\n",
       "   }\n",
       " }\n",
       " incarnation: 5934618651688996880\n",
       " physical_device_desc: \"device: 0, name: Tesla T4, pci bus id: 0000:00:04.0, compute capability: 7.5\"]"
      ]
     },
     "execution_count": 16,
     "metadata": {
      "tags": []
     },
     "output_type": "execute_result"
    }
   ],
   "source": [
    "from tensorflow.python.client import device_lib\n",
    "device_lib.list_local_devices()"
   ]
  },
  {
   "cell_type": "code",
   "execution_count": 17,
   "metadata": {
    "colab": {
     "base_uri": "https://localhost:8080/",
     "height": 782
    },
    "colab_type": "code",
    "id": "_yeQzhz7UAZ3",
    "outputId": "e96229c8-a968-4892-b0ab-304f599899b1"
   },
   "outputs": [
    {
     "name": "stdout",
     "output_type": "stream",
     "text": [
      "MemTotal:       13335276 kB\n",
      "MemFree:         9671828 kB\n",
      "MemAvailable:   11817528 kB\n",
      "Buffers:           71900 kB\n",
      "Cached:          2108888 kB\n",
      "SwapCached:            0 kB\n",
      "Active:          1225112 kB\n",
      "Inactive:        2039092 kB\n",
      "Active(anon):     927032 kB\n",
      "Inactive(anon):    10592 kB\n",
      "Active(file):     298080 kB\n",
      "Inactive(file):  2028500 kB\n",
      "Unevictable:           0 kB\n",
      "Mlocked:               0 kB\n",
      "SwapTotal:             0 kB\n",
      "SwapFree:              0 kB\n",
      "Dirty:               344 kB\n",
      "Writeback:             0 kB\n",
      "AnonPages:       1083548 kB\n",
      "Mapped:           546476 kB\n",
      "Shmem:             11144 kB\n",
      "Slab:             161268 kB\n",
      "SReclaimable:     120388 kB\n",
      "SUnreclaim:        40880 kB\n",
      "KernelStack:        4404 kB\n",
      "PageTables:         7828 kB\n",
      "NFS_Unstable:          0 kB\n",
      "Bounce:                0 kB\n",
      "WritebackTmp:          0 kB\n",
      "CommitLimit:     6667636 kB\n",
      "Committed_AS:    2832560 kB\n",
      "VmallocTotal:   34359738367 kB\n",
      "VmallocUsed:           0 kB\n",
      "VmallocChunk:          0 kB\n",
      "AnonHugePages:         0 kB\n",
      "ShmemHugePages:        0 kB\n",
      "ShmemPmdMapped:        0 kB\n",
      "HugePages_Total:       0\n",
      "HugePages_Free:        0\n",
      "HugePages_Rsvd:        0\n",
      "HugePages_Surp:        0\n",
      "Hugepagesize:       2048 kB\n",
      "DirectMap4k:      186356 kB\n",
      "DirectMap2M:     5056512 kB\n",
      "DirectMap1G:    10485760 kB\n"
     ]
    }
   ],
   "source": [
    "!cat /proc/meminfo"
   ]
  },
  {
   "cell_type": "code",
   "execution_count": 0,
   "metadata": {
    "colab": {},
    "colab_type": "code",
    "id": "0LElGW7RLpCL"
   },
   "outputs": [],
   "source": [
    "import pandas as pd\n",
    "import numpy as np\n",
    "import matplotlib.pyplot as plt"
   ]
  },
  {
   "cell_type": "code",
   "execution_count": 3,
   "metadata": {
    "colab": {
     "base_uri": "https://localhost:8080/",
     "height": 176,
     "resources": {
      "http://localhost:8080/nbextensions/google.colab/files.js": {
       "data": "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",
       "headers": [
        [
         "content-type",
         "application/javascript"
        ]
       ],
       "ok": true,
       "status": 200,
       "status_text": ""
      }
     }
    },
    "colab_type": "code",
    "id": "hcWu2TyMLvco",
    "outputId": "c5301a41-406d-482d-9e07-5fd7113f9d74"
   },
   "outputs": [
    {
     "data": {
      "text/html": [
       "\n",
       "     <input type=\"file\" id=\"files-5520bbaa-a02e-4ddd-8b13-9081c4903a1f\" name=\"files[]\" multiple disabled />\n",
       "     <output id=\"result-5520bbaa-a02e-4ddd-8b13-9081c4903a1f\">\n",
       "      Upload widget is only available when the cell has been executed in the\n",
       "      current browser session. Please rerun this cell to enable.\n",
       "      </output>\n",
       "      <script src=\"/nbextensions/google.colab/files.js\"></script> "
      ],
      "text/plain": [
       "<IPython.core.display.HTML object>"
      ]
     },
     "metadata": {
      "tags": []
     },
     "output_type": "display_data"
    },
    {
     "name": "stdout",
     "output_type": "stream",
     "text": [
      "Saving T_tr.csv to T_tr.csv\n",
      "Saving T_ts.csv to T_ts.csv\n",
      "Saving X_t.csv to X_t.csv\n",
      "Saving X_tr.csv to X_tr.csv\n"
     ]
    }
   ],
   "source": [
    "from google.colab import files\n",
    "uploaded = files.upload()"
   ]
  },
  {
   "cell_type": "code",
   "execution_count": 4,
   "metadata": {
    "colab": {
     "base_uri": "https://localhost:8080/",
     "height": 34
    },
    "colab_type": "code",
    "id": "9aoiNuIhNDWn",
    "outputId": "5381357d-2bfd-4bb2-d418-e4445eff1554"
   },
   "outputs": [
    {
     "data": {
      "text/plain": [
       "((22621, 17), (22621, 1), (7541, 17), (7541, 1))"
      ]
     },
     "execution_count": 4,
     "metadata": {
      "tags": []
     },
     "output_type": "execute_result"
    }
   ],
   "source": [
    "X_tr = pd.read_csv(\"X_tr.csv\")\n",
    "X_ts = pd.read_csv(\"X_t.csv\")\n",
    "T_ts = pd.read_csv(\"T_ts.csv\")\n",
    "T_tr =  pd.read_csv(\"T_tr.csv\")\n",
    "\n",
    "X_tr.shape, T_tr.shape, X_ts.shape, T_ts.shape"
   ]
  },
  {
   "cell_type": "code",
   "execution_count": 0,
   "metadata": {
    "colab": {},
    "colab_type": "code",
    "id": "22wwkXnEPG5Y"
   },
   "outputs": [],
   "source": [
    "X_train, T_train, X_test, T_test = X_tr.values, T_tr.values, X_ts.values, T_ts.values"
   ]
  },
  {
   "cell_type": "code",
   "execution_count": 6,
   "metadata": {
    "colab": {
     "base_uri": "https://localhost:8080/",
     "height": 34
    },
    "colab_type": "code",
    "id": "7IfYyB-MPCf0",
    "outputId": "575e7e59-11b5-49a8-cbd8-9e4d959d0ae5"
   },
   "outputs": [
    {
     "data": {
      "text/plain": [
       "((22621, 2), (7541, 2))"
      ]
     },
     "execution_count": 6,
     "metadata": {
      "tags": []
     },
     "output_type": "execute_result"
    }
   ],
   "source": [
    "from sklearn.preprocessing import OneHotEncoder\n",
    "onehot_encoder = OneHotEncoder(categories='auto',sparse=False)\n",
    "labels = onehot_encoder.fit_transform(T_tr)\n",
    "labels_test = onehot_encoder.fit_transform(T_ts)\n",
    "\n",
    "labels.shape, labels_test.shape"
   ]
  },
  {
   "cell_type": "code",
   "execution_count": 0,
   "metadata": {
    "colab": {},
    "colab_type": "code",
    "id": "QbbIZdTBLYsu"
   },
   "outputs": [],
   "source": [
    "def normalize(X):\n",
    "    mean = X.mean()  #this will compute mean of every column of the dataset\n",
    "    std = X.std()    #computes the standard deviation \n",
    "    return (X - mean) / std"
   ]
  },
  {
   "cell_type": "code",
   "execution_count": 0,
   "metadata": {
    "colab": {},
    "colab_type": "code",
    "id": "8HfuG47VLgxr"
   },
   "outputs": [],
   "source": [
    "X_train_normalized = normalize(X_tr)\n",
    "X_test_normalized = normalize(X_ts)"
   ]
  },
  {
   "cell_type": "code",
   "execution_count": 9,
   "metadata": {
    "colab": {
     "base_uri": "https://localhost:8080/",
     "height": 34
    },
    "colab_type": "code",
    "id": "Xz551M-oITPq",
    "outputId": "49408b7e-6554-409a-e50f-9c9040f5f017"
   },
   "outputs": [
    {
     "name": "stderr",
     "output_type": "stream",
     "text": [
      "Using TensorFlow backend.\n"
     ]
    }
   ],
   "source": [
    "#Necessary Imports\n",
    "import keras\n",
    "from keras.models import Sequential\n",
    "from keras.layers import Dense, Dropout, Activation\n",
    "from keras.optimizers import RMSprop\n",
    "from sklearn.metrics import classification_report,accuracy_score, f1_score, precision_score, recall_score, matthews_corrcoef, confusion_matrix, roc_curve, auc\n",
    "\n",
    "\n",
    "#Define model1\n",
    "def model1():\n",
    "    model1 = Sequential()\n",
    "\n",
    "    #input layer with no. of features as input_dim and 'relu' as activation function and 0.5 dropout\n",
    "    model1.add(Dense(64, activation='sigmoid', input_dim=X_train_normalized.shape[1]))\n",
    "    model1.add(Dropout(0.5))\n",
    "\n",
    "    #adding 5 hidden layers with different number of neurons\n",
    "    model1.add(Dense(64, activation='relu'))\n",
    "    model1.add(Dropout(0.5))\n",
    "\n",
    "    model1.add(Dense(32,activation='exponential'))\n",
    "    model1.add(Dropout(0.6))\n",
    "\n",
    "    model1.add(Dense(10,activation='tanh'))\n",
    "\n",
    "    model1.add(Dense(128,activation='sigmoid'))\n",
    "    model1.add(Dropout(0.1))\n",
    "\n",
    "    model1.add(Dense(128,activation='hard_sigmoid'))\n",
    "    model1.add(Dropout(0.5))\n",
    "\n",
    "    #Output layer with softmax activation and 2 neurons as we have 2 classes\n",
    "    model1.add(Dense(2, activation='softmax'))\n",
    "\n",
    "    #Choice of optimizer : rmsprop\n",
    "    rmsprop = RMSprop(lr=0.001, rho=0.9, epsilon=None, decay=0.0)\n",
    "    model1.compile(loss='categorical_crossentropy', optimizer=rmsprop, metrics=['accuracy'])\n",
    "\n",
    "    #fitting the model\n",
    "    history = model1.fit(X_train_normalized, labels, epochs=20, batch_size=512, verbose=1)\n",
    "\n",
    "    #Model Evaluation\n",
    "    score = model1.evaluate(X_test_normalized, labels_test, batch_size=512)\n",
    "\n",
    "    #Plotting epoch Vs Accuracy\n",
    "    plt.plot(history.history['acc'])\n",
    "    plt.title(\"Model 1 Accuracy\", fontsize = 18)\n",
    "    plt.xlabel(\"Epochs\")\n",
    "    plt.ylabel(\"Accuracy\")\n",
    "    plt.show()\n",
    "\n",
    "    #Plotting epoch Vs Loss\n",
    "    plt.plot(history.history['loss'])\n",
    "    plt.title('Model 1 loss', fontsize = 18)\n",
    "    plt.ylabel('Loss')\n",
    "    plt.xlabel('Epoch')\n",
    "    plt.show()\n",
    "\n",
    "\n",
    "    #Predict the values for test set\n",
    "    y_pred = model1.predict_classes(X_test_normalized)\n",
    "\n",
    "    #print the classification report\n",
    "    print(\"\\n Classification Report \\n \\n\",classification_report(T_test,y_pred))\n",
    "\n",
    "    #print confusion matrix\n",
    "    print(\"\\n Confusion Matrix \\n\",confusion_matrix(T_test,y_pred))\n",
    "    print(\"\\n Accuracy:\", round((accuracy_score(T_test,y_pred)*100),2), \"%\")\n",
    "    print(\"\\n F1 Score: \",round(f1_score(T_test,y_pred, average=\"macro\"),3))\n",
    "    print(\"\\n Precision: \",round(precision_score(T_test,y_pred, average=\"macro\"),3))\n",
    "    print(\"\\n Recall: \",round(recall_score(T_test,y_pred, average=\"macro\"),3))\n",
    "    print(\"\\n MCC:\", round(matthews_corrcoef(T_test,y_pred),3))"
   ]
  },
  {
   "cell_type": "code",
   "execution_count": 0,
   "metadata": {
    "colab": {},
    "colab_type": "code",
    "id": "yLQdd5piZdqT"
   },
   "outputs": [],
   "source": [
    "#Record training times for GPUs\n",
    "training_time_gpu = []"
   ]
  },
  {
   "cell_type": "code",
   "execution_count": 23,
   "metadata": {
    "colab": {
     "base_uri": "https://localhost:8080/",
     "height": 1737
    },
    "colab_type": "code",
    "id": "fWsilom4IY_c",
    "outputId": "6d32f439-e4f4-443d-e090-317a1b2c6dc8"
   },
   "outputs": [
    {
     "name": "stdout",
     "output_type": "stream",
     "text": [
      "Epoch 1/20\n",
      "22621/22621 [==============================] - 2s 69us/step - loss: 0.6221 - acc: 0.7203\n",
      "Epoch 2/20\n",
      "22621/22621 [==============================] - 0s 10us/step - loss: 0.5693 - acc: 0.7492\n",
      "Epoch 3/20\n",
      "22621/22621 [==============================] - 0s 10us/step - loss: 0.5326 - acc: 0.7533\n",
      "Epoch 4/20\n",
      "22621/22621 [==============================] - 0s 10us/step - loss: 0.4954 - acc: 0.7651\n",
      "Epoch 5/20\n",
      "22621/22621 [==============================] - 0s 10us/step - loss: 0.4766 - acc: 0.7682\n",
      "Epoch 6/20\n",
      "22621/22621 [==============================] - 0s 10us/step - loss: 0.4700 - acc: 0.7739\n",
      "Epoch 7/20\n",
      "22621/22621 [==============================] - 0s 10us/step - loss: 0.4569 - acc: 0.7770\n",
      "Epoch 8/20\n",
      "22621/22621 [==============================] - 0s 10us/step - loss: 0.4527 - acc: 0.7828\n",
      "Epoch 9/20\n",
      "22621/22621 [==============================] - 0s 10us/step - loss: 0.4468 - acc: 0.7881\n",
      "Epoch 10/20\n",
      "22621/22621 [==============================] - 0s 10us/step - loss: 0.4391 - acc: 0.7947\n",
      "Epoch 11/20\n",
      "22621/22621 [==============================] - 0s 11us/step - loss: 0.4346 - acc: 0.7963\n",
      "Epoch 12/20\n",
      "22621/22621 [==============================] - 0s 10us/step - loss: 0.4353 - acc: 0.7977\n",
      "Epoch 13/20\n",
      "22621/22621 [==============================] - 0s 11us/step - loss: 0.4335 - acc: 0.7970\n",
      "Epoch 14/20\n",
      "22621/22621 [==============================] - 0s 10us/step - loss: 0.4302 - acc: 0.8011\n",
      "Epoch 15/20\n",
      "22621/22621 [==============================] - 0s 11us/step - loss: 0.4238 - acc: 0.8076\n",
      "Epoch 16/20\n",
      "22621/22621 [==============================] - 0s 11us/step - loss: 0.4227 - acc: 0.8071\n",
      "Epoch 17/20\n",
      "22621/22621 [==============================] - 0s 10us/step - loss: 0.4210 - acc: 0.8104\n",
      "Epoch 18/20\n",
      "22621/22621 [==============================] - 0s 10us/step - loss: 0.4168 - acc: 0.8161\n",
      "Epoch 19/20\n",
      "22621/22621 [==============================] - 0s 10us/step - loss: 0.4153 - acc: 0.8136\n",
      "Epoch 20/20\n",
      "22621/22621 [==============================] - 0s 11us/step - loss: 0.4122 - acc: 0.8181\n",
      "7541/7541 [==============================] - 1s 69us/step\n"
     ]
    },
    {
     "data": {
      "image/png": "[encoded data removed]",
      "text/plain": [
       "<Figure size 432x288 with 1 Axes>"
      ]
     },
     "metadata": {
      "tags": []
     },
     "output_type": "display_data"
    },
    {
     "data": {
      "image/png": "[encoded data removed]",
      "text/plain": [
       "<Figure size 432x288 with 1 Axes>"
      ]
     },
     "metadata": {
      "tags": []
     },
     "output_type": "display_data"
    },
    {
     "name": "stdout",
     "output_type": "stream",
     "text": [
      "\n",
      " Classification Report \n",
      " \n",
      "               precision    recall  f1-score   support\n",
      "\n",
      "           0       0.82      0.96      0.89      5618\n",
      "           1       0.78      0.40      0.53      1923\n",
      "\n",
      "   micro avg       0.82      0.82      0.82      7541\n",
      "   macro avg       0.80      0.68      0.71      7541\n",
      "weighted avg       0.81      0.82      0.80      7541\n",
      "\n",
      "\n",
      " Confusion Matrix \n",
      " [[5401  217]\n",
      " [1157  766]]\n",
      "\n",
      " Accuracy: 81.78 %\n",
      "\n",
      " F1 Score:  0.707\n",
      "\n",
      " Precision:  0.801\n",
      "\n",
      " Recall:  0.68\n",
      "\n",
      " MCC: 0.466\n",
      "Time taken by Model 1 :  8.595637798309326 seconds\n"
     ]
    }
   ],
   "source": [
    "import time\n",
    "start = time.time()\n",
    "model1()\n",
    "end = time.time()\n",
    "print(\"Time taken by Model 1 : \",(end - start),\"seconds\")\n",
    "training_time_gpu.append((end - start))"
   ]
  },
  {
   "cell_type": "code",
   "execution_count": 0,
   "metadata": {
    "colab": {},
    "colab_type": "code",
    "id": "PTtnU02YPv9H"
   },
   "outputs": [],
   "source": [
    "#Define model2\n",
    "def model2():\n",
    "    model2 = Sequential()\n",
    "\n",
    "    #input layer with no. of features as input_dim and 'relu' as activation function \n",
    "    model2.add(Dense(64, activation='selu', input_dim=X_train_normalized.shape[1]))\n",
    "\n",
    "    #adding 6 hidden layers with 64 and 32 neurons alternatively\n",
    "    model2.add(Dense(32, activation='relu'))\n",
    "\n",
    "    model2.add(Dense(64,activation='selu'))\n",
    "\n",
    "    model2.add(Dense(32,activation='relu'))\n",
    "\n",
    "    model2.add(Dense(64,activation='selu'))\n",
    "\n",
    "    model2.add(Dense(32,activation='relu'))\n",
    "\n",
    "    model2.add(Dense(64,activation='selu'))\n",
    "\n",
    "    #Output layer with softmax activation and 2 neurons as we have 2 classes\n",
    "    model2.add(Dense(2, activation='softmax'))\n",
    "\n",
    "    #Choice of optimizer : rmsprop\n",
    "    rmsprop = RMSprop(lr=0.001, rho=0.9, epsilon=None, decay=0.0)\n",
    "    model2.compile(loss='binary_crossentropy', optimizer= rmsprop, metrics=['accuracy'])\n",
    "\n",
    "    #fitting the model\n",
    "    history = model2.fit(X_train_normalized, labels, epochs=20, batch_size=512, verbose=1)\n",
    "\n",
    "    #Model Evaluation\n",
    "    score_2 = model2.evaluate(X_test_normalized, labels_test, batch_size=512)\n",
    "\n",
    "    #Plotting epoch Vs Accuracy\n",
    "    plt.plot(history.history['acc'])\n",
    "    plt.title(\"Model 2 Accuracy\", fontsize = 18)\n",
    "    plt.xlabel(\"Epochs\")\n",
    "    plt.ylabel(\"Accuracy\")\n",
    "    plt.show()\n",
    "\n",
    "    #Plotting epoch Vs Loss\n",
    "    plt.plot(history.history['loss'])\n",
    "    plt.title('Model 2 loss', fontsize = 18)\n",
    "    plt.ylabel('Loss')\n",
    "    plt.xlabel('Epoch')\n",
    "    plt.show()\n",
    "\n",
    "    #Predict the values for test set\n",
    "    y_pred_2 = model2.predict_classes(X_test_normalized)\n",
    "\n",
    "    #print the classification report\n",
    "    print(\"\\n Classification Report \\n \\n\",classification_report(T_test,y_pred_2))\n",
    "\n",
    "    #print confusion matrix\n",
    "    print(\"\\n Confusion Matrix \\n\",confusion_matrix(T_test,y_pred_2))\n",
    "    print(\"\\n Accuracy:\", round((accuracy_score(T_test,y_pred_2)*100),2), \"%\")\n",
    "    print(\"\\n F1 Score: \",round(f1_score(T_test,y_pred_2, average=\"macro\"),3))\n",
    "    print(\"\\n Precision: \",round(precision_score(T_test,y_pred_2, average=\"macro\"),3))\n",
    "    print(\"\\n Recall: \",round(recall_score(T_test,y_pred_2, average=\"macro\"),3))\n",
    "    print(\"\\n MCC:\", round(matthews_corrcoef(T_test,y_pred_2),3))"
   ]
  },
  {
   "cell_type": "code",
   "execution_count": 24,
   "metadata": {
    "colab": {
     "base_uri": "https://localhost:8080/",
     "height": 1737
    },
    "colab_type": "code",
    "id": "yn6WCwdKRm0h",
    "outputId": "00d5f67b-dae7-4e7c-bcdb-52e67d20577d"
   },
   "outputs": [
    {
     "name": "stdout",
     "output_type": "stream",
     "text": [
      "Epoch 1/20\n",
      "22621/22621 [==============================] - 2s 74us/step - loss: 0.4098 - acc: 0.8084\n",
      "Epoch 2/20\n",
      "22621/22621 [==============================] - 0s 11us/step - loss: 0.3659 - acc: 0.8356\n",
      "Epoch 3/20\n",
      "22621/22621 [==============================] - 0s 10us/step - loss: 0.3582 - acc: 0.8401\n",
      "Epoch 4/20\n",
      "22621/22621 [==============================] - 0s 10us/step - loss: 0.3513 - acc: 0.8425\n",
      "Epoch 5/20\n",
      "22621/22621 [==============================] - 0s 10us/step - loss: 0.3492 - acc: 0.8438\n",
      "Epoch 6/20\n",
      "22621/22621 [==============================] - 0s 11us/step - loss: 0.3461 - acc: 0.8442\n",
      "Epoch 7/20\n",
      "22621/22621 [==============================] - 0s 10us/step - loss: 0.3450 - acc: 0.8463\n",
      "Epoch 8/20\n",
      "22621/22621 [==============================] - 0s 10us/step - loss: 0.3429 - acc: 0.8452\n",
      "Epoch 9/20\n",
      "22621/22621 [==============================] - 0s 10us/step - loss: 0.3430 - acc: 0.8462\n",
      "Epoch 10/20\n",
      "22621/22621 [==============================] - 0s 10us/step - loss: 0.3405 - acc: 0.8478\n",
      "Epoch 11/20\n",
      "22621/22621 [==============================] - 0s 11us/step - loss: 0.3399 - acc: 0.8471\n",
      "Epoch 12/20\n",
      "22621/22621 [==============================] - 0s 10us/step - loss: 0.3381 - acc: 0.8466\n",
      "Epoch 13/20\n",
      "22621/22621 [==============================] - 0s 10us/step - loss: 0.3378 - acc: 0.8474\n",
      "Epoch 14/20\n",
      "22621/22621 [==============================] - 0s 10us/step - loss: 0.3372 - acc: 0.8481\n",
      "Epoch 15/20\n",
      "22621/22621 [==============================] - 0s 11us/step - loss: 0.3357 - acc: 0.8485\n",
      "Epoch 16/20\n",
      "22621/22621 [==============================] - 0s 10us/step - loss: 0.3353 - acc: 0.8505\n",
      "Epoch 17/20\n",
      "22621/22621 [==============================] - 0s 10us/step - loss: 0.3346 - acc: 0.8485\n",
      "Epoch 18/20\n",
      "22621/22621 [==============================] - 0s 10us/step - loss: 0.3336 - acc: 0.8482\n",
      "Epoch 19/20\n",
      "22621/22621 [==============================] - 0s 11us/step - loss: 0.3325 - acc: 0.8488\n",
      "Epoch 20/20\n",
      "22621/22621 [==============================] - 0s 10us/step - loss: 0.3317 - acc: 0.8501\n",
      "7541/7541 [==============================] - 1s 74us/step\n"
     ]
    },
    {
     "data": {
      "image/png": "[encoded data removed]",
      "text/plain": [
       "<Figure size 432x288 with 1 Axes>"
      ]
     },
     "metadata": {
      "tags": []
     },
     "output_type": "display_data"
    },
    {
     "data": {
      "image/png": "[encoded data removed]",
      "text/plain": [
       "<Figure size 432x288 with 1 Axes>"
      ]
     },
     "metadata": {
      "tags": []
     },
     "output_type": "display_data"
    },
    {
     "name": "stdout",
     "output_type": "stream",
     "text": [
      "\n",
      " Classification Report \n",
      " \n",
      "               precision    recall  f1-score   support\n",
      "\n",
      "           0       0.84      0.96      0.90      5618\n",
      "           1       0.79      0.49      0.60      1923\n",
      "\n",
      "   micro avg       0.84      0.84      0.84      7541\n",
      "   macro avg       0.82      0.72      0.75      7541\n",
      "weighted avg       0.83      0.84      0.82      7541\n",
      "\n",
      "\n",
      " Confusion Matrix \n",
      " [[5370  248]\n",
      " [ 990  933]]\n",
      "\n",
      " Accuracy: 83.58 %\n",
      "\n",
      " F1 Score:  0.749\n",
      "\n",
      " Precision:  0.817\n",
      "\n",
      " Recall:  0.721\n",
      "\n",
      " MCC: 0.529\n",
      "Time taken by Model 2 :  8.472150564193726 seconds\n"
     ]
    }
   ],
   "source": [
    "start = time.time()\n",
    "model2()\n",
    "end = time.time()\n",
    "print(\"Time taken by Model 2 : \",(end - start),\"seconds\")\n",
    "training_time_gpu.append((end - start))"
   ]
  },
  {
   "cell_type": "code",
   "execution_count": 0,
   "metadata": {
    "colab": {},
    "colab_type": "code",
    "id": "df6U4rUHRrnW"
   },
   "outputs": [],
   "source": [
    "#Define model3\n",
    "def model3():\n",
    "    model3 = Sequential()\n",
    "\n",
    "    #input layer with no. of features as input_dim and 'relu' as activation function and 0.5 dropout\n",
    "    model3.add(Dense(X_train_normalized.shape[1], activation='relu', input_dim=X_train_normalized.shape[1]))\n",
    "\n",
    "    #adding 10 hidden layers \n",
    "    model3.add(Dense(24, activation='relu'))\n",
    "    model3.add(Dropout(0.1))\n",
    "\n",
    "    model3.add(Dense(10,activation='selu'))\n",
    "    model3.add(Dropout(0.1))\n",
    "\n",
    "    model3.add(Dense(1,activation='selu'))\n",
    "    model3.add(Dropout(0.1))\n",
    "\n",
    "    model3.add(Dense(48, activation='relu'))\n",
    "    model3.add(Dropout(0.1))\n",
    "\n",
    "    model3.add(Dense(20, activation='relu'))\n",
    "    model3.add(Dropout(0.1))\n",
    "\n",
    "    model3.add(Dense(128, activation='relu'))\n",
    "    model3.add(Dropout(0.1))\n",
    "\n",
    "    model3.add(Dense(64, activation='relu'))\n",
    "    model3.add(Dropout(0.1))\n",
    "\n",
    "    model3.add(Dense(32,activation='relu'))\n",
    "    model3.add(Dropout(0.1))\n",
    "\n",
    "    model3.add(Dense(10,activation='relu'))\n",
    "    model3.add(Dropout(0.1))\n",
    "\n",
    "    model3.add(Dense(64,activation='selu'))\n",
    "    model3.add(Dropout(0.1))\n",
    "\n",
    "    model3.add(Dense(10,activation='relu'))\n",
    "    model3.add(Dropout(0.1))\n",
    "\n",
    "    model3.add(Dense(1,activation='selu'))\n",
    "    model3.add(Dropout(0.1))\n",
    "\n",
    "    model3.add(Dense(256,activation='relu'))\n",
    "    model3.add(Dropout(0.1))\n",
    "\n",
    "    model3.add(Dense(512,activation='elu'))\n",
    "    model3.add(Dropout(0.1))\n",
    "\n",
    "    model3.add(Dense(1024,activation='relu'))\n",
    "    model3.add(Dropout(0.1))\n",
    "\n",
    "    model3.add(Dense(256,activation='selu'))\n",
    "    model3.add(Dropout(0.1))\n",
    "\n",
    "    #Output layer with softmax activation and 2 neurons as we have 2 classes\n",
    "    model3.add(Dense(2, activation='softmax'))\n",
    "\n",
    "    #Choice of optimizer : rmsprop\n",
    "    rmsprop = RMSprop(lr=0.001, rho=0.9, epsilon=None, decay=0.0)\n",
    "    model3.compile(loss='categorical_crossentropy', optimizer= rmsprop, metrics=['accuracy'])\n",
    "\n",
    "    #fitting the model\n",
    "    history = model3.fit(X_train_normalized, labels, epochs=20, batch_size=512, verbose=1)\n",
    "\n",
    "    #Model Evaluation\n",
    "    score_3 = model3.evaluate(X_test_normalized, labels_test, batch_size=512)\n",
    "\n",
    "    #Plotting epoch Vs Accuracy\n",
    "    plt.plot(history.history['acc'])\n",
    "    plt.title(\"Model 3 Accuracy\")\n",
    "    plt.xlabel(\"Epochs\")\n",
    "    plt.ylabel(\"Accuracy\")\n",
    "    plt.show()\n",
    "\n",
    "    #Plotting epoch Vs Loss\n",
    "    plt.plot(history.history['loss'])\n",
    "    plt.title('Model 3 loss')\n",
    "    plt.ylabel('Loss')\n",
    "    plt.xlabel('Epoch')\n",
    "    plt.show()\n",
    "\n",
    "\n",
    "    #Predict the values for test set\n",
    "    y_pred_3 = model3.predict_classes(X_test_normalized)\n",
    "\n",
    "    #print the classification report\n",
    "    print(\"\\n Classification Report \\n \\n\",classification_report(T_test,y_pred_3))\n",
    "\n",
    "    #print confusion matrix\n",
    "    print(\"\\n Confusion Matrix \\n\",confusion_matrix(T_test,y_pred_3))\n",
    "    print(\"\\n Accuracy:\", round((accuracy_score(T_test,y_pred_3)*100),2), \"%\")\n",
    "    print(\"\\n F1 Score: \",round(f1_score(T_test,y_pred_3, average=\"macro\"),3))\n",
    "    print(\"\\n Precision: \",round(precision_score(T_test,y_pred_3, average=\"macro\"),3))\n",
    "    print(\"\\n Recall: \",round(recall_score(T_test,y_pred_3, average=\"macro\"),3))\n",
    "    print(\"\\n MCC:\", round(matthews_corrcoef(T_test,y_pred_3),3))"
   ]
  },
  {
   "cell_type": "code",
   "execution_count": 25,
   "metadata": {
    "colab": {
     "base_uri": "https://localhost:8080/",
     "height": 1729
    },
    "colab_type": "code",
    "id": "1U7BqoCuR2wv",
    "outputId": "1c20e1e9-e2b0-4571-9298-51b8a4872ada"
   },
   "outputs": [
    {
     "name": "stdout",
     "output_type": "stream",
     "text": [
      "Epoch 1/20\n",
      "22621/22621 [==============================] - 3s 118us/step - loss: 0.5822 - acc: 0.7458\n",
      "Epoch 2/20\n",
      "22621/22621 [==============================] - 0s 19us/step - loss: 0.5193 - acc: 0.7619\n",
      "Epoch 3/20\n",
      "22621/22621 [==============================] - 0s 20us/step - loss: 0.4823 - acc: 0.7814\n",
      "Epoch 4/20\n",
      "22621/22621 [==============================] - 0s 19us/step - loss: 0.4644 - acc: 0.7936\n",
      "Epoch 5/20\n",
      "22621/22621 [==============================] - 0s 20us/step - loss: 0.4519 - acc: 0.8020\n",
      "Epoch 6/20\n",
      "22621/22621 [==============================] - 0s 19us/step - loss: 0.4463 - acc: 0.8061\n",
      "Epoch 7/20\n",
      "22621/22621 [==============================] - 0s 20us/step - loss: 0.4336 - acc: 0.8114\n",
      "Epoch 8/20\n",
      "22621/22621 [==============================] - 0s 19us/step - loss: 0.4331 - acc: 0.8140\n",
      "Epoch 9/20\n",
      "22621/22621 [==============================] - 0s 20us/step - loss: 0.4256 - acc: 0.8163\n",
      "Epoch 10/20\n",
      "22621/22621 [==============================] - 0s 19us/step - loss: 0.4240 - acc: 0.8165\n",
      "Epoch 11/20\n",
      "22621/22621 [==============================] - 0s 19us/step - loss: 0.4214 - acc: 0.8170\n",
      "Epoch 12/20\n",
      "22621/22621 [==============================] - 0s 20us/step - loss: 0.4191 - acc: 0.8194\n",
      "Epoch 13/20\n",
      "22621/22621 [==============================] - 0s 19us/step - loss: 0.4191 - acc: 0.8176\n",
      "Epoch 14/20\n",
      "22621/22621 [==============================] - 0s 20us/step - loss: 0.4178 - acc: 0.8199\n",
      "Epoch 15/20\n",
      "22621/22621 [==============================] - 0s 19us/step - loss: 0.4120 - acc: 0.8227\n",
      "Epoch 16/20\n",
      "22621/22621 [==============================] - 0s 19us/step - loss: 0.4134 - acc: 0.8205\n",
      "Epoch 17/20\n",
      "22621/22621 [==============================] - 0s 19us/step - loss: 0.4128 - acc: 0.8228\n",
      "Epoch 18/20\n",
      "22621/22621 [==============================] - 0s 19us/step - loss: 0.4122 - acc: 0.8205\n",
      "Epoch 19/20\n",
      "22621/22621 [==============================] - 0s 20us/step - loss: 0.4071 - acc: 0.8235\n",
      "Epoch 20/20\n",
      "22621/22621 [==============================] - 0s 20us/step - loss: 0.4072 - acc: 0.8201\n",
      "7541/7541 [==============================] - 1s 103us/step\n"
     ]
    },
    {
     "data": {
      "image/png": "[encoded data removed]",
      "text/plain": [
       "<Figure size 432x288 with 1 Axes>"
      ]
     },
     "metadata": {
      "tags": []
     },
     "output_type": "display_data"
    },
    {
     "data": {
      "image/png": "[encoded data removed]",
      "text/plain": [
       "<Figure size 432x288 with 1 Axes>"
      ]
     },
     "metadata": {
      "tags": []
     },
     "output_type": "display_data"
    },
    {
     "name": "stdout",
     "output_type": "stream",
     "text": [
      "\n",
      " Classification Report \n",
      " \n",
      "               precision    recall  f1-score   support\n",
      "\n",
      "           0       0.85      0.94      0.89      5618\n",
      "           1       0.76      0.52      0.62      1923\n",
      "\n",
      "   micro avg       0.83      0.83      0.83      7541\n",
      "   macro avg       0.80      0.73      0.76      7541\n",
      "weighted avg       0.83      0.83      0.82      7541\n",
      "\n",
      "\n",
      " Confusion Matrix \n",
      " [[5299  319]\n",
      " [ 926  997]]\n",
      "\n",
      " Accuracy: 83.49 %\n",
      "\n",
      " F1 Score:  0.755\n",
      "\n",
      " Precision:  0.804\n",
      "\n",
      " Recall:  0.731\n",
      "\n",
      " MCC: 0.53\n",
      "Time taken by Model 3 :  15.351582765579224 seconds\n"
     ]
    }
   ],
   "source": [
    "start = time.time()\n",
    "model3()\n",
    "end = time.time()\n",
    "print(\"Time taken by Model 3 : \",(end - start),\"seconds\")\n",
    "training_time_gpu.append((end - start))"
   ]
  },
  {
   "cell_type": "code",
   "execution_count": 26,
   "metadata": {
    "colab": {
     "base_uri": "https://localhost:8080/",
     "height": 34
    },
    "colab_type": "code",
    "id": "93eQiYvKR8yS",
    "outputId": "e50a0bcd-a148-4d9a-86dc-101bfb0666d4"
   },
   "outputs": [
    {
     "data": {
      "text/plain": [
       "[8.595637798309326, 8.472150564193726, 15.351582765579224]"
      ]
     },
     "execution_count": 26,
     "metadata": {
      "tags": []
     },
     "output_type": "execute_result"
    }
   ],
   "source": [
    "training_time_gpu"
   ]
  },
  {
   "cell_type": "code",
   "execution_count": 0,
   "metadata": {
    "colab": {},
    "colab_type": "code",
    "id": "ZcjeiiOaZ0am"
   },
   "outputs": [],
   "source": []
  }
 ],
 "metadata": {
  "accelerator": "GPU",
  "colab": {
   "name": "DeepLearning_Colab.ipynb",
   "provenance": [],
   "version": "0.3.2"
  },
  "kernelspec": {
   "display_name": "Python 3",
   "language": "python",
   "name": "python3"
  },
  "language_info": {
   "codemirror_mode": {
    "name": "ipython",
    "version": 3
   },
   "file_extension": ".py",
   "mimetype": "text/x-python",
   "name": "python",
   "nbconvert_exporter": "python",
   "pygments_lexer": "ipython3",
   "version": "3.7.3"
  }
 },
 "nbformat": 4,
 "nbformat_minor": 1
}
